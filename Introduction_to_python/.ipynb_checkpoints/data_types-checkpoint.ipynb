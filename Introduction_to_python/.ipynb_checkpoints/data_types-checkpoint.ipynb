{
 "cells": [
  {
   "cell_type": "markdown",
   "id": "f7d3688a",
   "metadata": {},
   "source": [
    "# Data Types\n",
    "\n",
    "This is my first jupyter notebook in which we are looking at data types in Python."
   ]
  },
  {
   "cell_type": "code",
   "execution_count": 1,
   "id": "f4e72873",
   "metadata": {},
   "outputs": [],
   "source": [
    "my_name = \"Harvey\""
   ]
  },
  {
   "cell_type": "code",
   "execution_count": 2,
   "id": "7212c9bd",
   "metadata": {},
   "outputs": [
    {
     "name": "stdout",
     "output_type": "stream",
     "text": [
      "<class 'str'>\n"
     ]
    }
   ],
   "source": [
    "print(type(my_name))"
   ]
  },
  {
   "cell_type": "code",
   "execution_count": 3,
   "id": "2a58708a",
   "metadata": {},
   "outputs": [],
   "source": [
    "my_favourite_number_test = \"My favourite number is:\"\n",
    "my_favourite_number = 42"
   ]
  },
  {
   "cell_type": "code",
   "execution_count": 4,
   "id": "0647232c",
   "metadata": {},
   "outputs": [
    {
     "name": "stdout",
     "output_type": "stream",
     "text": [
      "<class 'int'>\n"
     ]
    }
   ],
   "source": [
    "print(type(my_favourite_number))"
   ]
  },
  {
   "cell_type": "code",
   "execution_count": 5,
   "id": "55ec0c62",
   "metadata": {},
   "outputs": [
    {
     "data": {
      "text/plain": [
       "'My favourite number is:'"
      ]
     },
     "execution_count": 5,
     "metadata": {},
     "output_type": "execute_result"
    }
   ],
   "source": [
    "my_favourite_number_test"
   ]
  },
  {
   "cell_type": "code",
   "execution_count": 6,
   "id": "81ab153c",
   "metadata": {},
   "outputs": [
    {
     "name": "stdout",
     "output_type": "stream",
     "text": [
      "My favourite number is: 42\n"
     ]
    }
   ],
   "source": [
    "print(my_favourite_number_test, my_favourite_number)"
   ]
  },
  {
   "cell_type": "code",
   "execution_count": 7,
   "id": "a6f094e7",
   "metadata": {},
   "outputs": [],
   "source": [
    "my_favourite_number_text = \"is my favourite number.\"\n",
    "my_favourite_number = 25"
   ]
  },
  {
   "cell_type": "code",
   "execution_count": 8,
   "id": "8c004163",
   "metadata": {},
   "outputs": [
    {
     "name": "stdout",
     "output_type": "stream",
     "text": [
      "25 is my favourite number.\n"
     ]
    }
   ],
   "source": [
    "print(my_favourite_number, my_favourite_number_text)"
   ]
  },
  {
   "cell_type": "code",
   "execution_count": 9,
   "id": "a6b86cf4",
   "metadata": {},
   "outputs": [],
   "source": [
    "my_numbers = [10, 20, 30, 40]"
   ]
  },
  {
   "cell_type": "code",
   "execution_count": 10,
   "id": "9d18747e",
   "metadata": {},
   "outputs": [
    {
     "data": {
      "text/plain": [
       "list"
      ]
     },
     "execution_count": 10,
     "metadata": {},
     "output_type": "execute_result"
    }
   ],
   "source": [
    "type(my_numbers)"
   ]
  },
  {
   "cell_type": "code",
   "execution_count": 11,
   "id": "0cb49768",
   "metadata": {},
   "outputs": [],
   "source": [
    "my_names = [\"Harvey\", \"Max\", \"Schneider\", \"Don\"]"
   ]
  },
  {
   "cell_type": "code",
   "execution_count": 12,
   "id": "bd559740",
   "metadata": {},
   "outputs": [
    {
     "data": {
      "text/plain": [
       "list"
      ]
     },
     "execution_count": 12,
     "metadata": {},
     "output_type": "execute_result"
    }
   ],
   "source": [
    "type(my_names)"
   ]
  },
  {
   "cell_type": "code",
   "execution_count": 13,
   "id": "85d011c8",
   "metadata": {},
   "outputs": [
    {
     "data": {
      "text/plain": [
       "[10, 20, 30, 40]"
      ]
     },
     "execution_count": 13,
     "metadata": {},
     "output_type": "execute_result"
    }
   ],
   "source": [
    "my_numbers"
   ]
  },
  {
   "cell_type": "code",
   "execution_count": 14,
   "id": "8bf23591",
   "metadata": {},
   "outputs": [
    {
     "data": {
      "text/plain": [
       "20"
      ]
     },
     "execution_count": 14,
     "metadata": {},
     "output_type": "execute_result"
    }
   ],
   "source": [
    "my_numbers[1]"
   ]
  },
  {
   "cell_type": "code",
   "execution_count": 15,
   "id": "f9d07e2e",
   "metadata": {},
   "outputs": [
    {
     "data": {
      "text/plain": [
       "10"
      ]
     },
     "execution_count": 15,
     "metadata": {},
     "output_type": "execute_result"
    }
   ],
   "source": [
    "my_numbers[0]"
   ]
  },
  {
   "cell_type": "code",
   "execution_count": 16,
   "id": "d682ef9d",
   "metadata": {},
   "outputs": [
    {
     "data": {
      "text/plain": [
       "['Harvey', 'Max', 'Schneider', 'Don']"
      ]
     },
     "execution_count": 16,
     "metadata": {},
     "output_type": "execute_result"
    }
   ],
   "source": [
    "my_names"
   ]
  },
  {
   "cell_type": "code",
   "execution_count": 17,
   "id": "e40f935f",
   "metadata": {},
   "outputs": [
    {
     "data": {
      "text/plain": [
       "'Don'"
      ]
     },
     "execution_count": 17,
     "metadata": {},
     "output_type": "execute_result"
    }
   ],
   "source": [
    "my_names[3]"
   ]
  },
  {
   "cell_type": "code",
   "execution_count": 18,
   "id": "fc0f4f9f",
   "metadata": {},
   "outputs": [],
   "source": [
    "my_names[0] = \"Ruben\""
   ]
  },
  {
   "cell_type": "code",
   "execution_count": 19,
   "id": "7bea6f0d",
   "metadata": {},
   "outputs": [
    {
     "data": {
      "text/plain": [
       "['Ruben', 'Max', 'Schneider', 'Don']"
      ]
     },
     "execution_count": 19,
     "metadata": {},
     "output_type": "execute_result"
    }
   ],
   "source": [
    "my_names"
   ]
  },
  {
   "cell_type": "code",
   "execution_count": 20,
   "id": "b8ed0a58",
   "metadata": {},
   "outputs": [
    {
     "data": {
      "text/plain": [
       "['Max', 'Schneider']"
      ]
     },
     "execution_count": 20,
     "metadata": {},
     "output_type": "execute_result"
    }
   ],
   "source": [
    "my_names[1:3]"
   ]
  },
  {
   "cell_type": "code",
   "execution_count": 21,
   "id": "2b3b8a4f",
   "metadata": {},
   "outputs": [],
   "source": [
    "my_tuple = (10, 20, 30, 40)"
   ]
  },
  {
   "cell_type": "code",
   "execution_count": 22,
   "id": "5bfab262",
   "metadata": {},
   "outputs": [
    {
     "data": {
      "text/plain": [
       "tuple"
      ]
     },
     "execution_count": 22,
     "metadata": {},
     "output_type": "execute_result"
    }
   ],
   "source": [
    "type(my_tuple)"
   ]
  },
  {
   "cell_type": "code",
   "execution_count": 23,
   "id": "03079c4d",
   "metadata": {},
   "outputs": [
    {
     "data": {
      "text/plain": [
       "40"
      ]
     },
     "execution_count": 23,
     "metadata": {},
     "output_type": "execute_result"
    }
   ],
   "source": [
    "my_tuple[3]"
   ]
  },
  {
   "cell_type": "code",
   "execution_count": 24,
   "id": "83eac253",
   "metadata": {},
   "outputs": [
    {
     "data": {
      "text/plain": [
       "(10, 20, 30)"
      ]
     },
     "execution_count": 24,
     "metadata": {},
     "output_type": "execute_result"
    }
   ],
   "source": [
    "my_tuple[:3]"
   ]
  },
  {
   "cell_type": "code",
   "execution_count": 25,
   "id": "b5152fe9",
   "metadata": {},
   "outputs": [
    {
     "data": {
      "text/plain": [
       "(20, 30, 40)"
      ]
     },
     "execution_count": 25,
     "metadata": {},
     "output_type": "execute_result"
    }
   ],
   "source": [
    "my_tuple[1:]"
   ]
  },
  {
   "cell_type": "code",
   "execution_count": 26,
   "id": "2bc67d38",
   "metadata": {},
   "outputs": [
    {
     "data": {
      "text/plain": [
       "(20, 30)"
      ]
     },
     "execution_count": 26,
     "metadata": {},
     "output_type": "execute_result"
    }
   ],
   "source": [
    "my_tuple[1:3]"
   ]
  },
  {
   "cell_type": "code",
   "execution_count": 27,
   "id": "5ea19fd0",
   "metadata": {},
   "outputs": [
    {
     "data": {
      "text/plain": [
       "(10, 20, 30)"
      ]
     },
     "execution_count": 27,
     "metadata": {},
     "output_type": "execute_result"
    }
   ],
   "source": [
    "my_tuple[:3]"
   ]
  },
  {
   "cell_type": "code",
   "execution_count": 28,
   "id": "1c75732c",
   "metadata": {},
   "outputs": [],
   "source": [
    "my_sliced_tuple = my_tuple[:3]"
   ]
  },
  {
   "cell_type": "code",
   "execution_count": 29,
   "id": "779d9e41",
   "metadata": {},
   "outputs": [
    {
     "data": {
      "text/plain": [
       "(10, 20, 30)"
      ]
     },
     "execution_count": 29,
     "metadata": {},
     "output_type": "execute_result"
    }
   ],
   "source": [
    "my_sliced_tuple"
   ]
  },
  {
   "cell_type": "code",
   "execution_count": 30,
   "id": "a15d0f25",
   "metadata": {},
   "outputs": [
    {
     "data": {
      "text/plain": [
       "False"
      ]
     },
     "execution_count": 30,
     "metadata": {},
     "output_type": "execute_result"
    }
   ],
   "source": [
    "my_sliced_tuple == my_tuple"
   ]
  },
  {
   "cell_type": "code",
   "execution_count": 31,
   "id": "b6c1f596",
   "metadata": {},
   "outputs": [
    {
     "data": {
      "text/plain": [
       "True"
      ]
     },
     "execution_count": 31,
     "metadata": {},
     "output_type": "execute_result"
    }
   ],
   "source": [
    "my_sliced_tuple == my_tuple[:3]"
   ]
  },
  {
   "cell_type": "code",
   "execution_count": 32,
   "id": "b93132e0",
   "metadata": {},
   "outputs": [
    {
     "data": {
      "text/plain": [
       "(20, 30)"
      ]
     },
     "execution_count": 32,
     "metadata": {},
     "output_type": "execute_result"
    }
   ],
   "source": [
    "my_tuple[1:3]"
   ]
  },
  {
   "cell_type": "code",
   "execution_count": 33,
   "id": "37822a24",
   "metadata": {},
   "outputs": [],
   "source": [
    "import numpy as np"
   ]
  },
  {
   "cell_type": "code",
   "execution_count": 34,
   "id": "f13b5916",
   "metadata": {},
   "outputs": [],
   "source": [
    "np.random.seed(42)\n",
    "my_array = np.random.randint(low = 0, high = 10, size = (3, 4))"
   ]
  },
  {
   "cell_type": "code",
   "execution_count": 35,
   "id": "442c3196",
   "metadata": {},
   "outputs": [
    {
     "data": {
      "text/plain": [
       "array([[6, 3, 7, 4],\n",
       "       [6, 9, 2, 6],\n",
       "       [7, 4, 3, 7]])"
      ]
     },
     "execution_count": 35,
     "metadata": {},
     "output_type": "execute_result"
    }
   ],
   "source": [
    "my_array"
   ]
  },
  {
   "cell_type": "code",
   "execution_count": 36,
   "id": "b820c9c2",
   "metadata": {},
   "outputs": [
    {
     "data": {
      "text/plain": [
       "numpy.ndarray"
      ]
     },
     "execution_count": 36,
     "metadata": {},
     "output_type": "execute_result"
    }
   ],
   "source": [
    "type(my_array)"
   ]
  },
  {
   "cell_type": "code",
   "execution_count": 37,
   "id": "1d9dc57e",
   "metadata": {},
   "outputs": [
    {
     "data": {
      "text/plain": [
       "(3, 4)"
      ]
     },
     "execution_count": 37,
     "metadata": {},
     "output_type": "execute_result"
    }
   ],
   "source": [
    "my_array.shape"
   ]
  },
  {
   "cell_type": "code",
   "execution_count": 38,
   "id": "e3d60075",
   "metadata": {},
   "outputs": [],
   "source": [
    "my_old_names = [\"Harvey\", \"Max\", \"Schneider\", \"Don\"]"
   ]
  },
  {
   "cell_type": "code",
   "execution_count": 39,
   "id": "fd737830",
   "metadata": {},
   "outputs": [],
   "source": [
    "my_new_names = my_old_names"
   ]
  },
  {
   "cell_type": "code",
   "execution_count": 40,
   "id": "838588a3",
   "metadata": {},
   "outputs": [
    {
     "data": {
      "text/plain": [
       "'Harvey'"
      ]
     },
     "execution_count": 40,
     "metadata": {},
     "output_type": "execute_result"
    }
   ],
   "source": [
    "my_old_names[0]"
   ]
  },
  {
   "cell_type": "code",
   "execution_count": 41,
   "id": "4ba9ec14",
   "metadata": {},
   "outputs": [],
   "source": [
    "my_old_names[0] = \"This is surprising\""
   ]
  },
  {
   "cell_type": "code",
   "execution_count": 42,
   "id": "562ed566",
   "metadata": {},
   "outputs": [
    {
     "data": {
      "text/plain": [
       "['This is surprising', 'Max', 'Schneider', 'Don']"
      ]
     },
     "execution_count": 42,
     "metadata": {},
     "output_type": "execute_result"
    }
   ],
   "source": [
    "my_old_names"
   ]
  },
  {
   "cell_type": "code",
   "execution_count": 77,
   "id": "67c04e1d",
   "metadata": {},
   "outputs": [],
   "source": [
    "def bmi(weight, height):\n",
    "    bmi_value = weight/(height**2)\n",
    "    return bmi_value"
   ]
  },
  {
   "cell_type": "code",
   "execution_count": 78,
   "id": "db1301d2",
   "metadata": {},
   "outputs": [
    {
     "data": {
      "text/plain": [
       "26.85185185185185"
      ]
     },
     "execution_count": 78,
     "metadata": {},
     "output_type": "execute_result"
    }
   ],
   "source": [
    "bmi(87, 1.8)"
   ]
  },
  {
   "cell_type": "code",
   "execution_count": 45,
   "id": "2c1f480b",
   "metadata": {},
   "outputs": [],
   "source": [
    "m1 = 10\n",
    "m2 = 3\n",
    "psd = 5"
   ]
  },
  {
   "cell_type": "code",
   "execution_count": 46,
   "id": "a5800950",
   "metadata": {},
   "outputs": [],
   "source": [
    "def cohd(mean1, mean2, pooled_sd):\n",
    "    effect_size = (mean1 - mean2)/pooled_sd\n",
    "    return effect_size"
   ]
  },
  {
   "cell_type": "code",
   "execution_count": 47,
   "id": "d4eeac46",
   "metadata": {},
   "outputs": [
    {
     "data": {
      "text/plain": [
       "0.4"
      ]
     },
     "execution_count": 47,
     "metadata": {},
     "output_type": "execute_result"
    }
   ],
   "source": [
    "cohd(1020, 1000, 50)"
   ]
  },
  {
   "cell_type": "code",
   "execution_count": 48,
   "id": "2d5d445d",
   "metadata": {},
   "outputs": [
    {
     "name": "stdout",
     "output_type": "stream",
     "text": [
      "Hello World!\n",
      "Hello World!\n",
      "Hello World!\n",
      "Hello World!\n",
      "Hello World!\n"
     ]
    }
   ],
   "source": [
    "for index in range(0, 5):\n",
    "    print(\"Hello World!\")"
   ]
  },
  {
   "cell_type": "code",
   "execution_count": 49,
   "id": "c6ccac27",
   "metadata": {},
   "outputs": [],
   "source": [
    "my_names = [\"Harvey\", \"Max\", \"Schneider\", \"Don\"]"
   ]
  },
  {
   "cell_type": "code",
   "execution_count": 50,
   "id": "6260ac58",
   "metadata": {},
   "outputs": [
    {
     "name": "stdout",
     "output_type": "stream",
     "text": [
      "Harvey\n",
      "Max\n",
      "Schneider\n",
      "Don\n"
     ]
    }
   ],
   "source": [
    "for element in my_names:\n",
    "    print(element)"
   ]
  },
  {
   "cell_type": "markdown",
   "id": "459ba0fd",
   "metadata": {},
   "source": [
    "# For Loops and Arrays"
   ]
  },
  {
   "cell_type": "code",
   "execution_count": 51,
   "id": "4a80b85e",
   "metadata": {},
   "outputs": [],
   "source": [
    "weights = np.array([70, 60, 90])\n",
    "heights = np.array([1.67, 1.77, 1.78])\n",
    "names = np.array(['Iggy', 'David', 'Lou'])"
   ]
  },
  {
   "cell_type": "code",
   "execution_count": 52,
   "id": "27b63650",
   "metadata": {},
   "outputs": [],
   "source": [
    "vital_stats = np.array([weights, heights, names])"
   ]
  },
  {
   "cell_type": "code",
   "execution_count": 53,
   "id": "81dbbfb7",
   "metadata": {},
   "outputs": [
    {
     "data": {
      "text/plain": [
       "array([['70', '60', '90'],\n",
       "       ['1.67', '1.77', '1.78'],\n",
       "       ['Iggy', 'David', 'Lou']], dtype='<U32')"
      ]
     },
     "execution_count": 53,
     "metadata": {},
     "output_type": "execute_result"
    }
   ],
   "source": [
    "vital_stats"
   ]
  },
  {
   "cell_type": "code",
   "execution_count": 74,
   "id": "37ffe699",
   "metadata": {},
   "outputs": [
    {
     "name": "stdout",
     "output_type": "stream",
     "text": [
      "['70' '60' '90']\n",
      "['1.67' '1.77' '1.78']\n",
      "['Iggy' 'David' 'Lou']\n"
     ]
    }
   ],
   "source": [
    "for i in vital_stats:\n",
    "    print(i)"
   ]
  },
  {
   "cell_type": "code",
   "execution_count": 79,
   "id": "1e7048da",
   "metadata": {},
   "outputs": [
    {
     "name": "stdout",
     "output_type": "stream",
     "text": [
      "['70' '1.67' 'Iggy']\n",
      "['60' '1.77' 'David']\n",
      "['90' '1.78' 'Lou']\n"
     ]
    }
   ],
   "source": [
    "for i in vital_stats.T:\n",
    "    print(i)"
   ]
  },
  {
   "cell_type": "code",
   "execution_count": 86,
   "id": "d31d6586",
   "metadata": {},
   "outputs": [
    {
     "name": "stdout",
     "output_type": "stream",
     "text": [
      "Iggy has a BMI value of 25.1\n",
      "David has a BMI value of 19.15\n",
      "Lou has a BMI value of 28.41\n"
     ]
    }
   ],
   "source": [
    "for person in vital_stats.T:\n",
    "    weight = float(person[0])\n",
    "    height = float(person[1])\n",
    "    print(person[2], \"has a BMI value of\", round(bmi(weight, height),2))"
   ]
  },
  {
   "cell_type": "markdown",
   "id": "a839cea1",
   "metadata": {},
   "source": [
    "# Challenge"
   ]
  },
  {
   "cell_type": "code",
   "execution_count": null,
   "id": "599050ee",
   "metadata": {},
   "outputs": [],
   "source": [
    "def cohd(mean1, mean2, pooled_sd):\n",
    "    effect_size = (mean1 - mean2)/pooled_sd\n",
    "    return effect_size"
   ]
  },
  {
   "cell_type": "code",
   "execution_count": 99,
   "id": "57ea3b83",
   "metadata": {},
   "outputs": [
    {
     "name": "stdout",
     "output_type": "stream",
     "text": [
      "The Cohen's d value for experiment 1 is 1.5\n",
      "The Cohen's d value for experiment 2 is 1.0\n",
      "The Cohen's d value for experiment 3 is 0.5\n"
     ]
    }
   ],
   "source": [
    "exper1 = np.array([500, 485, 10, 1])\n",
    "exper2 = np.array([500, 490, 10, 2])\n",
    "exper3 = np.array([500, 495, 10, 3])\n",
    "\n",
    "experiments = np.array([exper1, exper2, exper3])\n",
    "\n",
    "for i in experiments:\n",
    "    mean1 = float(i[0])\n",
    "    mean2 = float(i[1])\n",
    "    pooled_sd = float(i[2])\n",
    "    experiment = (i[3])\n",
    "    print(\"The Cohen's d value for experiment\", experiment, \"is\", cohd(mean1, mean2, pooled_sd))"
   ]
  },
  {
   "cell_type": "markdown",
   "id": "b36acc04",
   "metadata": {},
   "source": [
    "* Equals: a == b \n",
    "* Not Equals: a != b\n",
    "* Less than: a < b\n",
    "* Less than or equal to: a <= b\n",
    "* Greater than: a > b\n",
    "* Greater than or equal to: a >= b"
   ]
  },
  {
   "cell_type": "code",
   "execution_count": 64,
   "id": "4dfcca21",
   "metadata": {},
   "outputs": [],
   "source": [
    "a = np.array([1, 2, 3])\n",
    "b = np.array([3, 2, 1])"
   ]
  },
  {
   "cell_type": "code",
   "execution_count": 65,
   "id": "be59e97b",
   "metadata": {},
   "outputs": [
    {
     "data": {
      "text/plain": [
       "array([ True,  True, False])"
      ]
     },
     "execution_count": 65,
     "metadata": {},
     "output_type": "execute_result"
    }
   ],
   "source": [
    "a <= b"
   ]
  },
  {
   "cell_type": "code",
   "execution_count": 66,
   "id": "97d1e448",
   "metadata": {},
   "outputs": [
    {
     "data": {
      "text/plain": [
       "array([4, 4, 4])"
      ]
     },
     "execution_count": 66,
     "metadata": {},
     "output_type": "execute_result"
    }
   ],
   "source": [
    "a+b"
   ]
  },
  {
   "cell_type": "markdown",
   "id": "228fe7f8",
   "metadata": {},
   "source": [
    "# While Loops"
   ]
  },
  {
   "cell_type": "code",
   "execution_count": 67,
   "id": "24d9b4a9",
   "metadata": {},
   "outputs": [
    {
     "data": {
      "text/plain": [
       "['Harvey', 'Max', 'Schneider', 'Don']"
      ]
     },
     "execution_count": 67,
     "metadata": {},
     "output_type": "execute_result"
    }
   ],
   "source": [
    "my_names"
   ]
  },
  {
   "cell_type": "code",
   "execution_count": 68,
   "id": "952ee36c",
   "metadata": {},
   "outputs": [
    {
     "name": "stdout",
     "output_type": "stream",
     "text": [
      "Harvey\n",
      "Max\n"
     ]
    }
   ],
   "source": [
    "counter = 0 #Set our counter to zero\n",
    "\n",
    "while counter != 2:\n",
    "    print(my_names[counter])\n",
    "    counter += 1 #We set the value of our counter to increase by 1 each time"
   ]
  },
  {
   "cell_type": "markdown",
   "id": "895ece1c",
   "metadata": {},
   "source": [
    "# Conditional Statements"
   ]
  },
  {
   "cell_type": "code",
   "execution_count": 69,
   "id": "eff1c51d",
   "metadata": {},
   "outputs": [],
   "source": [
    "my_first_number = 6\n",
    "my_second_number = 6"
   ]
  },
  {
   "cell_type": "code",
   "execution_count": 70,
   "id": "ca5091c2",
   "metadata": {},
   "outputs": [
    {
     "name": "stdout",
     "output_type": "stream",
     "text": [
      "6 is equal to 6\n"
     ]
    }
   ],
   "source": [
    "if my_first_number < my_second_number:\n",
    "    print(my_first_number, \"is less than\", my_second_number)\n",
    "elif my_first_number > my_second_number:\n",
    "    print(my_first_number, \"is greater than\", my_second_number)\n",
    "else:\n",
    "    print(my_first_number, \"is equal to\", my_second_number)"
   ]
  },
  {
   "cell_type": "code",
   "execution_count": 71,
   "id": "d9d4c668",
   "metadata": {},
   "outputs": [
    {
     "name": "stdout",
     "output_type": "stream",
     "text": [
      "315\n"
     ]
    }
   ],
   "source": [
    "total = 0\n",
    "for i in range(1,100):\n",
    "    if i % 3 == 0 and i % 5 ==0:\n",
    "        total += i\n",
    "print(total)"
   ]
  }
 ],
 "metadata": {
  "kernelspec": {
   "display_name": "Python (data_science)",
   "language": "python",
   "name": "data_science"
  },
  "language_info": {
   "codemirror_mode": {
    "name": "ipython",
    "version": 3
   },
   "file_extension": ".py",
   "mimetype": "text/x-python",
   "name": "python",
   "nbconvert_exporter": "python",
   "pygments_lexer": "ipython3",
   "version": "3.9.7"
  }
 },
 "nbformat": 4,
 "nbformat_minor": 5
}
