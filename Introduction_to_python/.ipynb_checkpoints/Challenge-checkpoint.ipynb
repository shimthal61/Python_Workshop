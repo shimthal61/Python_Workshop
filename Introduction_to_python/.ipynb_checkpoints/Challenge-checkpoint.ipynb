{
 "cells": [
  {
   "cell_type": "code",
   "execution_count": 70,
   "id": "3fe50b02",
   "metadata": {},
   "outputs": [],
   "source": [
    "import numpy as np"
   ]
  },
  {
   "cell_type": "code",
   "execution_count": 71,
   "id": "3336a248",
   "metadata": {},
   "outputs": [],
   "source": [
    "my_array = np.array([(1, 4, 2,), (3, 9, 23,), (99, 4, 3,)])"
   ]
  },
  {
   "cell_type": "code",
   "execution_count": 72,
   "id": "a221380e",
   "metadata": {},
   "outputs": [
    {
     "data": {
      "text/plain": [
       "array([[ 1,  4,  2],\n",
       "       [ 3,  9, 23],\n",
       "       [99,  4,  3]])"
      ]
     },
     "execution_count": 72,
     "metadata": {},
     "output_type": "execute_result"
    }
   ],
   "source": [
    "my_array"
   ]
  },
  {
   "cell_type": "markdown",
   "id": "4efe2abf",
   "metadata": {},
   "source": [
    "## Challenge 1"
   ]
  },
  {
   "cell_type": "code",
   "execution_count": 73,
   "id": "176a6e46",
   "metadata": {},
   "outputs": [
    {
     "name": "stdout",
     "output_type": "stream",
     "text": [
      "This is row 1: [1 4 2]\n",
      "This is row 2: [ 3  9 23]\n",
      "This is row 3: [99  4  3]\n"
     ]
    }
   ],
   "source": [
    "for element in my_array[: 1]:\n",
    "    print('This is row 1:', (element))\n",
    "for element in my_array[1: 2]:\n",
    "    print('This is row 2:', (element))\n",
    "for element in my_array[2: ]:\n",
    "    print('This is row 3:', (element))"
   ]
  },
  {
   "cell_type": "markdown",
   "id": "bb0899f4",
   "metadata": {},
   "source": [
    "## Challenge 2"
   ]
  },
  {
   "cell_type": "code",
   "execution_count": 74,
   "id": "91643826",
   "metadata": {},
   "outputs": [
    {
     "name": "stdout",
     "output_type": "stream",
     "text": [
      "The sum of [1 4 2] is 7\n",
      "The sum of [ 3  9 23] is 35\n",
      "The sum of [99  4  3] is 106\n"
     ]
    }
   ],
   "source": [
    "for element in my_array[: 1]:\n",
    "    print('The sum of', element, 'is', sum(element))\n",
    "for element in my_array[1: 2]:\n",
    "    print('The sum of', element, 'is', sum(element))\n",
    "for element in my_array[2: ]:\n",
    "    print('The sum of', element, 'is', sum(element))"
   ]
  },
  {
   "cell_type": "markdown",
   "id": "40a2045a",
   "metadata": {},
   "source": [
    "## Challenge 3"
   ]
  },
  {
   "cell_type": "code",
   "execution_count": 75,
   "id": "0a859046",
   "metadata": {},
   "outputs": [
    {
     "name": "stdout",
     "output_type": "stream",
     "text": [
      "The sum of [ 1  3 99] is 103\n",
      "The sum of [4 9 4] is 17\n",
      "The sum of [ 2 23  3] is 28\n"
     ]
    }
   ],
   "source": [
    "for element in my_array.T[: 1]:\n",
    "    print('The sum of', element, 'is', sum(element))\n",
    "for element in my_array.T[1:2]:\n",
    "    print('The sum of', element, 'is', sum(element))\n",
    "for element in my_array.T[2: ]:\n",
    "    print('The sum of', element, 'is', sum(element))"
   ]
  },
  {
   "cell_type": "markdown",
   "id": "f591b5e1",
   "metadata": {},
   "source": [
    "## Further challenge"
   ]
  },
  {
   "cell_type": "code",
   "execution_count": 114,
   "id": "a147eb3b",
   "metadata": {},
   "outputs": [],
   "source": [
    "def print_rows(x):\n",
    "    i = 1\n",
    "    for row in x:\n",
    "        print(\"This is row\", i, row)\n",
    "        i += 1"
   ]
  },
  {
   "cell_type": "code",
   "execution_count": 115,
   "id": "6c18fdb0",
   "metadata": {},
   "outputs": [
    {
     "name": "stdout",
     "output_type": "stream",
     "text": [
      "This is row 1 [1 4 2]\n",
      "This is row 2 [ 3  9 23]\n",
      "This is row 3 [99  4  3]\n"
     ]
    }
   ],
   "source": [
    "print_rows(my_array)"
   ]
  },
  {
   "cell_type": "code",
   "execution_count": 111,
   "id": "7c7434a9",
   "metadata": {},
   "outputs": [
    {
     "name": "stdout",
     "output_type": "stream",
     "text": [
      "This is row 1 [1 4 2]\n",
      "This is row 2 [ 3  9 23]\n",
      "This is row 3 [99  4  3]\n"
     ]
    }
   ],
   "source": [
    "i = 1\n",
    "for row in my_array:\n",
    "    print(\"This is row\", i, row)\n",
    "    i += 1"
   ]
  },
  {
   "cell_type": "code",
   "execution_count": 119,
   "id": "fc7bc338",
   "metadata": {},
   "outputs": [],
   "source": [
    "def print_rows_all(x):\n",
    "    index = 0\n",
    "    while index < len(x):\n",
    "        print(x[index])\n",
    "        index += 1"
   ]
  },
  {
   "cell_type": "code",
   "execution_count": 120,
   "id": "36c1284e",
   "metadata": {},
   "outputs": [
    {
     "name": "stdout",
     "output_type": "stream",
     "text": [
      "[1 4 2]\n",
      "[ 3  9 23]\n",
      "[99  4  3]\n"
     ]
    }
   ],
   "source": [
    "print_rows_all(my_array)"
   ]
  }
 ],
 "metadata": {
  "kernelspec": {
   "display_name": "Python (data_science)",
   "language": "python",
   "name": "data_science"
  },
  "language_info": {
   "codemirror_mode": {
    "name": "ipython",
    "version": 3
   },
   "file_extension": ".py",
   "mimetype": "text/x-python",
   "name": "python",
   "nbconvert_exporter": "python",
   "pygments_lexer": "ipython3",
   "version": "3.9.7"
  }
 },
 "nbformat": 4,
 "nbformat_minor": 5
}
