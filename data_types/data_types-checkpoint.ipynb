{
 "cells": [
  {
   "cell_type": "markdown",
   "id": "f7d3688a",
   "metadata": {},
   "source": [
    "# Data Types\n",
    "\n",
    "This is my first jupyter notebook in which we are looking at data types in Python."
   ]
  },
  {
   "cell_type": "code",
   "execution_count": null,
   "id": "f4e72873",
   "metadata": {},
   "outputs": [],
   "source": [
    "my_name = \"Harvey\""
   ]
  },
  {
   "cell_type": "code",
   "execution_count": 5,
   "id": "7212c9bd",
   "metadata": {},
   "outputs": [
    {
     "name": "stdout",
     "output_type": "stream",
     "text": [
      "<class 'str'>\n"
     ]
    }
   ],
   "source": [
    "print(type(my_name))"
   ]
  },
  {
   "cell_type": "code",
   "execution_count": 7,
   "id": "2a58708a",
   "metadata": {},
   "outputs": [],
   "source": [
    "my_favourite_number_test = \"My favourite number is:\"\n",
    "my_favourite_number = 42"
   ]
  },
  {
   "cell_type": "code",
   "execution_count": 9,
   "id": "0647232c",
   "metadata": {},
   "outputs": [
    {
     "name": "stdout",
     "output_type": "stream",
     "text": [
      "<class 'int'>\n"
     ]
    }
   ],
   "source": [
    "print(type(my_favourite_number))"
   ]
  },
  {
   "cell_type": "code",
   "execution_count": 10,
   "id": "55ec0c62",
   "metadata": {},
   "outputs": [
    {
     "data": {
      "text/plain": [
       "'My favourite number is:'"
      ]
     },
     "execution_count": 10,
     "metadata": {},
     "output_type": "execute_result"
    }
   ],
   "source": [
    "my_favourite_number_test"
   ]
  },
  {
   "cell_type": "code",
   "execution_count": 11,
   "id": "81ab153c",
   "metadata": {},
   "outputs": [
    {
     "name": "stdout",
     "output_type": "stream",
     "text": [
      "My favourite number is: 42\n"
     ]
    }
   ],
   "source": [
    "print(my_favourite_number_test, my_favourite_number)"
   ]
  },
  {
   "cell_type": "code",
   "execution_count": 12,
   "id": "a6f094e7",
   "metadata": {},
   "outputs": [],
   "source": [
    "my_favourite_number_text = \"is my favourite number.\"\n",
    "my_favourite_number = 25"
   ]
  },
  {
   "cell_type": "code",
   "execution_count": 13,
   "id": "8c004163",
   "metadata": {},
   "outputs": [
    {
     "name": "stdout",
     "output_type": "stream",
     "text": [
      "25 is my favourite number.\n"
     ]
    }
   ],
   "source": [
    "print(my_favourite_number, my_favourite_number_text)"
   ]
  },
  {
   "cell_type": "code",
   "execution_count": 15,
   "id": "a6b86cf4",
   "metadata": {},
   "outputs": [],
   "source": [
    "my_numbers = [10, 20, 30, 40]"
   ]
  },
  {
   "cell_type": "code",
   "execution_count": 17,
   "id": "9d18747e",
   "metadata": {},
   "outputs": [
    {
     "data": {
      "text/plain": [
       "list"
      ]
     },
     "execution_count": 17,
     "metadata": {},
     "output_type": "execute_result"
    }
   ],
   "source": [
    "type(my_numbers)"
   ]
  },
  {
   "cell_type": "code",
   "execution_count": 18,
   "id": "0cb49768",
   "metadata": {},
   "outputs": [],
   "source": [
    "my_names = [\"Harvey\", \"Max\", \"Schneider\", \"Don\"]"
   ]
  },
  {
   "cell_type": "code",
   "execution_count": 19,
   "id": "bd559740",
   "metadata": {},
   "outputs": [
    {
     "data": {
      "text/plain": [
       "list"
      ]
     },
     "execution_count": 19,
     "metadata": {},
     "output_type": "execute_result"
    }
   ],
   "source": [
    "type(my_names)"
   ]
  },
  {
   "cell_type": "code",
   "execution_count": 23,
   "id": "85d011c8",
   "metadata": {},
   "outputs": [
    {
     "data": {
      "text/plain": [
       "[10, 20, 30, 40]"
      ]
     },
     "execution_count": 23,
     "metadata": {},
     "output_type": "execute_result"
    }
   ],
   "source": [
    "my_numbers"
   ]
  },
  {
   "cell_type": "code",
   "execution_count": 26,
   "id": "8bf23591",
   "metadata": {},
   "outputs": [
    {
     "data": {
      "text/plain": [
       "20"
      ]
     },
     "execution_count": 26,
     "metadata": {},
     "output_type": "execute_result"
    }
   ],
   "source": [
    "my_numbers[1]"
   ]
  },
  {
   "cell_type": "code",
   "execution_count": 27,
   "id": "f9d07e2e",
   "metadata": {},
   "outputs": [
    {
     "data": {
      "text/plain": [
       "10"
      ]
     },
     "execution_count": 27,
     "metadata": {},
     "output_type": "execute_result"
    }
   ],
   "source": [
    "my_numbers[0]"
   ]
  },
  {
   "cell_type": "code",
   "execution_count": 28,
   "id": "d682ef9d",
   "metadata": {},
   "outputs": [
    {
     "data": {
      "text/plain": [
       "['Harvey', 'Max', 'Schneider', 'Don']"
      ]
     },
     "execution_count": 28,
     "metadata": {},
     "output_type": "execute_result"
    }
   ],
   "source": [
    "my_names"
   ]
  },
  {
   "cell_type": "code",
   "execution_count": 29,
   "id": "e40f935f",
   "metadata": {},
   "outputs": [
    {
     "data": {
      "text/plain": [
       "'Don'"
      ]
     },
     "execution_count": 29,
     "metadata": {},
     "output_type": "execute_result"
    }
   ],
   "source": [
    "my_names[3]"
   ]
  },
  {
   "cell_type": "code",
   "execution_count": 30,
   "id": "fc0f4f9f",
   "metadata": {},
   "outputs": [],
   "source": [
    "my_names[0] = \"Ruben\""
   ]
  },
  {
   "cell_type": "code",
   "execution_count": 32,
   "id": "7bea6f0d",
   "metadata": {},
   "outputs": [
    {
     "data": {
      "text/plain": [
       "['Ruben', 'Max', 'Schneider', 'Don']"
      ]
     },
     "execution_count": 32,
     "metadata": {},
     "output_type": "execute_result"
    }
   ],
   "source": [
    "my_names"
   ]
  },
  {
   "cell_type": "code",
   "execution_count": 39,
   "id": "b8ed0a58",
   "metadata": {},
   "outputs": [
    {
     "data": {
      "text/plain": [
       "['Max', 'Schneider']"
      ]
     },
     "execution_count": 39,
     "metadata": {},
     "output_type": "execute_result"
    }
   ],
   "source": [
    "my_names[1:3]"
   ]
  },
  {
   "cell_type": "code",
   "execution_count": 40,
   "id": "2b3b8a4f",
   "metadata": {},
   "outputs": [],
   "source": [
    "my_tuple = (10, 20, 30, 40)"
   ]
  },
  {
   "cell_type": "code",
   "execution_count": 41,
   "id": "5bfab262",
   "metadata": {},
   "outputs": [
    {
     "data": {
      "text/plain": [
       "tuple"
      ]
     },
     "execution_count": 41,
     "metadata": {},
     "output_type": "execute_result"
    }
   ],
   "source": [
    "type(my_tuple)"
   ]
  },
  {
   "cell_type": "code",
   "execution_count": 44,
   "id": "03079c4d",
   "metadata": {},
   "outputs": [
    {
     "data": {
      "text/plain": [
       "40"
      ]
     },
     "execution_count": 44,
     "metadata": {},
     "output_type": "execute_result"
    }
   ],
   "source": [
    "my_tuple[3]"
   ]
  },
  {
   "cell_type": "code",
   "execution_count": 46,
   "id": "ef3a7025",
   "metadata": {},
   "outputs": [
    {
     "ename": "TypeError",
     "evalue": "'tuple' object does not support item assignment",
     "output_type": "error",
     "traceback": [
      "\u001b[1;31m---------------------------------------------------------------------------\u001b[0m",
      "\u001b[1;31mTypeError\u001b[0m                                 Traceback (most recent call last)",
      "\u001b[1;32m~\\AppData\\Local\\Temp/ipykernel_23828/2172729120.py\u001b[0m in \u001b[0;36m<module>\u001b[1;34m\u001b[0m\n\u001b[1;32m----> 1\u001b[1;33m \u001b[0mmy_tuple\u001b[0m\u001b[1;33m[\u001b[0m\u001b[1;36m3\u001b[0m\u001b[1;33m]\u001b[0m \u001b[1;33m=\u001b[0m \u001b[1;36m5\u001b[0m\u001b[1;33m\u001b[0m\u001b[1;33m\u001b[0m\u001b[0m\n\u001b[0m",
      "\u001b[1;31mTypeError\u001b[0m: 'tuple' object does not support item assignment"
     ]
    }
   ],
   "source": [
    "my_tuple[3] = 5"
   ]
  },
  {
   "cell_type": "code",
   "execution_count": 48,
   "id": "83eac253",
   "metadata": {},
   "outputs": [
    {
     "data": {
      "text/plain": [
       "(10, 20, 30)"
      ]
     },
     "execution_count": 48,
     "metadata": {},
     "output_type": "execute_result"
    }
   ],
   "source": [
    "my_tuple[:3]"
   ]
  },
  {
   "cell_type": "code",
   "execution_count": 50,
   "id": "b5152fe9",
   "metadata": {},
   "outputs": [
    {
     "data": {
      "text/plain": [
       "(20, 30, 40)"
      ]
     },
     "execution_count": 50,
     "metadata": {},
     "output_type": "execute_result"
    }
   ],
   "source": [
    "my_tuple[1:]"
   ]
  },
  {
   "cell_type": "code",
   "execution_count": 51,
   "id": "2bc67d38",
   "metadata": {},
   "outputs": [
    {
     "data": {
      "text/plain": [
       "(20, 30)"
      ]
     },
     "execution_count": 51,
     "metadata": {},
     "output_type": "execute_result"
    }
   ],
   "source": [
    "my_tuple[1:3]"
   ]
  },
  {
   "cell_type": "code",
   "execution_count": 53,
   "id": "5ea19fd0",
   "metadata": {},
   "outputs": [
    {
     "data": {
      "text/plain": [
       "(10, 20, 30)"
      ]
     },
     "execution_count": 53,
     "metadata": {},
     "output_type": "execute_result"
    }
   ],
   "source": [
    "my_tuple[:3]"
   ]
  },
  {
   "cell_type": "code",
   "execution_count": 54,
   "id": "1c75732c",
   "metadata": {},
   "outputs": [],
   "source": [
    "my_sliced_tuple = my_tuple[:3]"
   ]
  },
  {
   "cell_type": "code",
   "execution_count": 55,
   "id": "779d9e41",
   "metadata": {},
   "outputs": [
    {
     "data": {
      "text/plain": [
       "(10, 20, 30)"
      ]
     },
     "execution_count": 55,
     "metadata": {},
     "output_type": "execute_result"
    }
   ],
   "source": [
    "my_sliced_tuple"
   ]
  },
  {
   "cell_type": "code",
   "execution_count": 56,
   "id": "a15d0f25",
   "metadata": {},
   "outputs": [
    {
     "data": {
      "text/plain": [
       "False"
      ]
     },
     "execution_count": 56,
     "metadata": {},
     "output_type": "execute_result"
    }
   ],
   "source": [
    "my_sliced_tuple == my_tuple"
   ]
  },
  {
   "cell_type": "code",
   "execution_count": 57,
   "id": "b6c1f596",
   "metadata": {},
   "outputs": [
    {
     "data": {
      "text/plain": [
       "True"
      ]
     },
     "execution_count": 57,
     "metadata": {},
     "output_type": "execute_result"
    }
   ],
   "source": [
    "my_sliced_tuple == my_tuple[:3]"
   ]
  },
  {
   "cell_type": "code",
   "execution_count": 59,
   "id": "b93132e0",
   "metadata": {},
   "outputs": [
    {
     "data": {
      "text/plain": [
       "(20, 30)"
      ]
     },
     "execution_count": 59,
     "metadata": {},
     "output_type": "execute_result"
    }
   ],
   "source": [
    "my_tuple[1:3]"
   ]
  },
  {
   "cell_type": "code",
   "execution_count": 9,
   "id": "37822a24",
   "metadata": {},
   "outputs": [],
   "source": [
    "import numpy as np"
   ]
  },
  {
   "cell_type": "code",
   "execution_count": 82,
   "id": "f13b5916",
   "metadata": {},
   "outputs": [],
   "source": [
    "np.random.seed(42)\n",
    "my_array = np.random.randint(low = 0, high = 10, size = (3, 4))"
   ]
  },
  {
   "cell_type": "code",
   "execution_count": 81,
   "id": "442c3196",
   "metadata": {},
   "outputs": [
    {
     "data": {
      "text/plain": [
       "array([[6, 3, 7, 4, 6],\n",
       "       [9, 2, 6, 7, 4],\n",
       "       [3, 7, 7, 2, 5]])"
      ]
     },
     "execution_count": 81,
     "metadata": {},
     "output_type": "execute_result"
    }
   ],
   "source": [
    "my_array"
   ]
  },
  {
   "cell_type": "code",
   "execution_count": 78,
   "id": "b820c9c2",
   "metadata": {},
   "outputs": [
    {
     "data": {
      "text/plain": [
       "numpy.ndarray"
      ]
     },
     "execution_count": 78,
     "metadata": {},
     "output_type": "execute_result"
    }
   ],
   "source": [
    "type(my_array)"
   ]
  },
  {
   "cell_type": "code",
   "execution_count": 79,
   "id": "1d9dc57e",
   "metadata": {},
   "outputs": [
    {
     "data": {
      "text/plain": [
       "(3, 4)"
      ]
     },
     "execution_count": 79,
     "metadata": {},
     "output_type": "execute_result"
    }
   ],
   "source": [
    "my_array.shape"
   ]
  },
  {
   "cell_type": "code",
   "execution_count": 85,
   "id": "e3d60075",
   "metadata": {},
   "outputs": [],
   "source": [
    "my_old_names = [\"Harvey\", \"Max\", \"Schneider\", \"Don\"]"
   ]
  },
  {
   "cell_type": "code",
   "execution_count": 86,
   "id": "fd737830",
   "metadata": {},
   "outputs": [],
   "source": [
    "my_new_names = my_old_names"
   ]
  },
  {
   "cell_type": "code",
   "execution_count": 89,
   "id": "838588a3",
   "metadata": {},
   "outputs": [
    {
     "data": {
      "text/plain": [
       "'Harvey'"
      ]
     },
     "execution_count": 89,
     "metadata": {},
     "output_type": "execute_result"
    }
   ],
   "source": [
    "my_old_names[0]"
   ]
  },
  {
   "cell_type": "code",
   "execution_count": 91,
   "id": "4ba9ec14",
   "metadata": {},
   "outputs": [],
   "source": [
    "my_old_names[0] = \"This is surprising\""
   ]
  },
  {
   "cell_type": "code",
   "execution_count": 93,
   "id": "562ed566",
   "metadata": {},
   "outputs": [
    {
     "data": {
      "text/plain": [
       "['This is surprising', 'Max', 'Schneider', 'Don']"
      ]
     },
     "execution_count": 93,
     "metadata": {},
     "output_type": "execute_result"
    }
   ],
   "source": [
    "my_old_names"
   ]
  },
  {
   "cell_type": "code",
   "execution_count": 17,
   "id": "67c04e1d",
   "metadata": {},
   "outputs": [],
   "source": [
    "def bmi(weight, height):\n",
    "    bmi_value = weight/(height*height)\n",
    "    return bmi_value"
   ]
  },
  {
   "cell_type": "code",
   "execution_count": 18,
   "id": "db1301d2",
   "metadata": {},
   "outputs": [
    {
     "data": {
      "text/plain": [
       "26.85185185185185"
      ]
     },
     "execution_count": 18,
     "metadata": {},
     "output_type": "execute_result"
    }
   ],
   "source": [
    "bmi(87, 1.8)"
   ]
  },
  {
   "cell_type": "code",
   "execution_count": 38,
   "id": "2c1f480b",
   "metadata": {},
   "outputs": [],
   "source": [
    "m1 = 10\n",
    "m2 = 3\n",
    "psd = 5"
   ]
  },
  {
   "cell_type": "code",
   "execution_count": 39,
   "id": "c045560d",
   "metadata": {},
   "outputs": [
    {
     "data": {
      "text/plain": [
       "1.4"
      ]
     },
     "execution_count": 39,
     "metadata": {},
     "output_type": "execute_result"
    }
   ],
   "source": [
    "cohd(m1, m2, 5)"
   ]
  },
  {
   "cell_type": "code",
   "execution_count": 25,
   "id": "a5800950",
   "metadata": {},
   "outputs": [],
   "source": [
    "def cohd(mean1, mean2, pooled_sd):\n",
    "    effect_size = (mean1 - mean2)/pooled_sd\n",
    "    return effect_size"
   ]
  },
  {
   "cell_type": "code",
   "execution_count": 26,
   "id": "d4eeac46",
   "metadata": {},
   "outputs": [
    {
     "data": {
      "text/plain": [
       "0.4"
      ]
     },
     "execution_count": 26,
     "metadata": {},
     "output_type": "execute_result"
    }
   ],
   "source": [
    "cohd(1020, 1000, 50)"
   ]
  },
  {
   "cell_type": "code",
   "execution_count": 5,
   "id": "2d5d445d",
   "metadata": {},
   "outputs": [
    {
     "name": "stdout",
     "output_type": "stream",
     "text": [
      "Hello World!\n",
      "Hello World!\n",
      "Hello World!\n",
      "Hello World!\n",
      "Hello World!\n"
     ]
    }
   ],
   "source": [
    "for index in range(0, 5):\n",
    "    print(\"Hello World!\")"
   ]
  },
  {
   "cell_type": "code",
   "execution_count": 6,
   "id": "c6ccac27",
   "metadata": {},
   "outputs": [],
   "source": [
    "my_names = [\"Harvey\", \"Max\", \"Schneider\", \"Don\"]"
   ]
  },
  {
   "cell_type": "code",
   "execution_count": 7,
   "id": "6260ac58",
   "metadata": {},
   "outputs": [
    {
     "name": "stdout",
     "output_type": "stream",
     "text": [
      "Harvey\n",
      "Max\n",
      "Schneider\n",
      "Don\n"
     ]
    }
   ],
   "source": [
    "for element in my_names:\n",
    "    print(element)"
   ]
  },
  {
   "cell_type": "code",
   "execution_count": 11,
   "id": "4a80b85e",
   "metadata": {},
   "outputs": [],
   "source": [
    "weights = np.array([70, 60, 90])\n",
    "heights = np.array([1.67, 1.77, 1.78])\n",
    "names = np.array(['Iggy', 'David', 'Lou'])"
   ]
  },
  {
   "cell_type": "code",
   "execution_count": 12,
   "id": "27b63650",
   "metadata": {},
   "outputs": [],
   "source": [
    "vital_stats = np.array([weights, heights, names])"
   ]
  },
  {
   "cell_type": "code",
   "execution_count": 13,
   "id": "81dbbfb7",
   "metadata": {},
   "outputs": [
    {
     "data": {
      "text/plain": [
       "array([['70', '60', '90'],\n",
       "       ['1.67', '1.77', '1.78'],\n",
       "       ['Iggy', 'David', 'Lou']], dtype='<U32')"
      ]
     },
     "execution_count": 13,
     "metadata": {},
     "output_type": "execute_result"
    }
   ],
   "source": [
    "vital_stats"
   ]
  },
  {
   "cell_type": "code",
   "execution_count": 14,
   "id": "37ffe699",
   "metadata": {},
   "outputs": [
    {
     "name": "stdout",
     "output_type": "stream",
     "text": [
      "['70' '60' '90']\n",
      "['1.67' '1.77' '1.78']\n",
      "['Iggy' 'David' 'Lou']\n"
     ]
    }
   ],
   "source": [
    "for row in vital_stats:\n",
    "    print(row)"
   ]
  },
  {
   "cell_type": "code",
   "execution_count": 15,
   "id": "615ee17d",
   "metadata": {},
   "outputs": [
    {
     "data": {
      "text/plain": [
       "array([['70', '1.67', 'Iggy'],\n",
       "       ['60', '1.77', 'David'],\n",
       "       ['90', '1.78', 'Lou']], dtype='<U32')"
      ]
     },
     "execution_count": 15,
     "metadata": {},
     "output_type": "execute_result"
    }
   ],
   "source": [
    "vital_stats.T"
   ]
  },
  {
   "cell_type": "code",
   "execution_count": 16,
   "id": "b61c8753",
   "metadata": {},
   "outputs": [
    {
     "name": "stdout",
     "output_type": "stream",
     "text": [
      "['70' '1.67' 'Iggy']\n",
      "['60' '1.77' 'David']\n",
      "['90' '1.78' 'Lou']\n"
     ]
    }
   ],
   "source": [
    "for row in vital_stats.T:\n",
    "    print(row)"
   ]
  },
  {
   "cell_type": "code",
   "execution_count": 20,
   "id": "9389b16d",
   "metadata": {},
   "outputs": [
    {
     "name": "stdout",
     "output_type": "stream",
     "text": [
      "Iggy has a BMI of 25\n",
      "David has a BMI of 19\n",
      "Lou has a BMI of 28\n"
     ]
    }
   ],
   "source": [
    "for person in vital_stats.T:\n",
    "    weight = float(person[0])\n",
    "    height = float(person[1])\n",
    "    print(person[2], 'has a BMI of', round(bmi(weight, height)))"
   ]
  },
  {
   "cell_type": "code",
   "execution_count": 43,
   "id": "ea97e12a",
   "metadata": {},
   "outputs": [],
   "source": [
    "experi1 = np.array([500, 500, 500])\n",
    "experi2 = np.array([485, 490, 495])\n",
    "groups = np.array(['Group 1', 'Group 2', 'Group 3'])"
   ]
  },
  {
   "cell_type": "code",
   "execution_count": 44,
   "id": "e4a05743",
   "metadata": {},
   "outputs": [],
   "source": [
    "experiments = np.array([experi1, experi2, groups])"
   ]
  },
  {
   "cell_type": "code",
   "execution_count": 45,
   "id": "a6790215",
   "metadata": {},
   "outputs": [
    {
     "data": {
      "text/plain": [
       "array([['500', '500', '500'],\n",
       "       ['485', '490', '495'],\n",
       "       ['Group 1', 'Group 2', 'Group 3']], dtype='<U11')"
      ]
     },
     "execution_count": 45,
     "metadata": {},
     "output_type": "execute_result"
    }
   ],
   "source": [
    "experiments"
   ]
  },
  {
   "cell_type": "code",
   "execution_count": 46,
   "id": "2f24f3de",
   "metadata": {},
   "outputs": [
    {
     "name": "stdout",
     "output_type": "stream",
     "text": [
      "['500' '500' '500']\n",
      "['485' '490' '495']\n",
      "['Group 1' 'Group 2' 'Group 3']\n"
     ]
    }
   ],
   "source": [
    "for row in experiments:\n",
    "    print(row)"
   ]
  },
  {
   "cell_type": "code",
   "execution_count": 47,
   "id": "9dbadea5",
   "metadata": {},
   "outputs": [
    {
     "data": {
      "text/plain": [
       "array([['500', '485', 'Group 1'],\n",
       "       ['500', '490', 'Group 2'],\n",
       "       ['500', '495', 'Group 3']], dtype='<U11')"
      ]
     },
     "execution_count": 47,
     "metadata": {},
     "output_type": "execute_result"
    }
   ],
   "source": [
    "experiments.T"
   ]
  },
  {
   "cell_type": "code",
   "execution_count": 48,
   "id": "09654ccc",
   "metadata": {},
   "outputs": [
    {
     "name": "stdout",
     "output_type": "stream",
     "text": [
      "Group 1 has a Cohens d value of 1.5\n",
      "Group 2 has a Cohens d value of 1.0\n",
      "Group 3 has a Cohens d value of 0.5\n"
     ]
    }
   ],
   "source": [
    "for mean in experiments.T:\n",
    "    experi1 = float(mean[0])\n",
    "    experi2 = float(mean[1])\n",
    "    print(mean[2], 'has a Cohens d value of', cohd(experi1, experi2, 10))"
   ]
  },
  {
   "cell_type": "markdown",
   "id": "b36acc04",
   "metadata": {},
   "source": [
    "* Equals: a == b \n",
    "* Not Equals: a != b\n",
    "* Less than: a < b\n",
    "* Less than or equal to: a <= b\n",
    "* Greater than: a > b\n",
    "* Greater than or equal to: a >= b"
   ]
  },
  {
   "cell_type": "code",
   "execution_count": 49,
   "id": "4dfcca21",
   "metadata": {},
   "outputs": [
    {
     "data": {
      "text/plain": [
       "['Harvey', 'Max', 'Schneider', 'Don']"
      ]
     },
     "execution_count": 49,
     "metadata": {},
     "output_type": "execute_result"
    }
   ],
   "source": [
    "my_names"
   ]
  },
  {
   "cell_type": "code",
   "execution_count": 50,
   "id": "a8c319df",
   "metadata": {},
   "outputs": [
    {
     "name": "stdout",
     "output_type": "stream",
     "text": [
      "Harvey\n",
      "Max\n"
     ]
    }
   ],
   "source": [
    "i = 0\n",
    "\n",
    "while i != 2:\n",
    "    print(my_names[i])\n",
    "    i += 1"
   ]
  },
  {
   "cell_type": "code",
   "execution_count": 56,
   "id": "eff1c51d",
   "metadata": {},
   "outputs": [],
   "source": [
    "my_first_number = 6\n",
    "my_second_number = 6"
   ]
  },
  {
   "cell_type": "code",
   "execution_count": 62,
   "id": "681c42ed",
   "metadata": {},
   "outputs": [
    {
     "name": "stdout",
     "output_type": "stream",
     "text": [
      "6 is equal to 6\n"
     ]
    }
   ],
   "source": [
    "if my_first_number < my_second_number:\n",
    "    print(my_first_number, 'is less than', my_second_number)\n",
    "elif my_first_number > my_second_number:\n",
    "    print(my_first_number, 'is greater than', my_second_number)\n",
    "else:\n",
    "    print(my_first_number, 'is equal to', my_second_number)"
   ]
  }
 ],
 "metadata": {
  "kernelspec": {
   "display_name": "Python (data_science)",
   "language": "python",
   "name": "data_science"
  },
  "language_info": {
   "codemirror_mode": {
    "name": "ipython",
    "version": 3
   },
   "file_extension": ".py",
   "mimetype": "text/x-python",
   "name": "python",
   "nbconvert_exporter": "python",
   "pygments_lexer": "ipython3",
   "version": "3.9.7"
  }
 },
 "nbformat": 4,
 "nbformat_minor": 5
}
